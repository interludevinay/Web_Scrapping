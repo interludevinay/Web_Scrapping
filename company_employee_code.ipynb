{
  "cells": [
    {
      "cell_type": "code",
      "execution_count": null,
      "metadata": {
        "id": "BAawTb4PREQd"
      },
      "outputs": [],
      "source": [
        "import pandas as pd\n",
        "from bs4 import BeautifulSoup\n",
        "import requests\n",
        "import numpy as np\n"
      ]
    },
    {
      "cell_type": "code",
      "execution_count": null,
      "metadata": {
        "id": "eEtBfjJ0RUBr"
      },
      "outputs": [],
      "source": [
        "url = 'https://companiesmarketcap.com/largest-companies-by-number-of-employees/'\n",
        "response = requests.get(url)\n",
        "response.text"
      ]
    },
    {
      "cell_type": "code",
      "execution_count": null,
      "metadata": {
        "id": "ojYjJrhMRhxf"
      },
      "outputs": [],
      "source": [
        "soup = BeautifulSoup(response.text,'html.parser')\n",
        "soup"
      ]
    },
    {
      "cell_type": "code",
      "execution_count": null,
      "metadata": {
        "colab": {
          "base_uri": "https://localhost:8080/"
        },
        "id": "KqnsfjYoUk9R",
        "outputId": "33960084-445a-4f4b-d841-abd834fcc806"
      },
      "outputs": [
        {
          "output_type": "stream",
          "name": "stdout",
          "text": [
            "['Walmart', 'Amazon', 'Foxconn (Hon Hai Precision Industry)', 'Accenture', 'Volkswagen', 'Tata Consultancy Services', 'Deutsche Post', 'BYD', 'FedEx', 'Compass Group', 'United Parcel Service', 'Kroger', 'Home Depot', 'Gazprom', 'Agricultural Bank of China', 'China Mobile', 'Jingdong Mall', 'Target', 'ICBC', 'Sodexo', 'Ahold Delhaize', 'Starbucks', 'Jardine Matheson', 'Yum China\\n', 'UnitedHealth', 'PetroChina', 'Berkshire Hathaway ', 'China State Construction Engineering', 'Marriott International', 'China Construction Bank', 'Toyota', 'Sinopec', 'Fomento Económico Mexicano', 'Capgemini', 'Magnit\\n', 'Cognizant Technology Solutions ', 'Carrefour', 'Ping An Insurance', 'NTT (Nippon Telegraph & Telephone)\\n', 'Teleperformance', 'TriNet', 'Tesco', 'TJX Companies', 'X5 Retail Group', 'Walgreens Boots Alliance', 'Hitachi', 'Siemens', 'Concentrix', 'Pepsico', 'Fresenius', 'Insperity\\n', 'Bank of China', 'Costco', 'JPMorgan Chase', 'CK Hutchison Holdings', 'Infosys', \"Lowe's Companies\", 'China Railway Group', 'Securitas AB', 'Sumitomo Denki Kōgyō\\n', 'IBM', 'Sberbank', 'China Telecom', 'Nestlé', 'Aramark', 'Stellantis', 'ISS A/S', 'China Railway Construction\\n', 'Vinci', 'Mahindra & Mahindra', 'JBS', 'Jabil', 'Wipro', 'Coal India', 'China Unicom', 'Jardine Cycle & Carriage', 'Citigroup', 'Luxshare Precision\\n', 'Reliance Industries', 'State Bank of India\\n', 'Alibaba', 'Wells Fargo', 'Panasonic', 'Walmex', 'Japan Post Holdings\\n', 'HSBC', 'George Weston', 'Loblaw Companies', 'Microsoft', 'DFI Retail Group\\n', 'HCL Technologies\\n', 'CVS Health', 'Bank of America ', 'SAIC Motor\\n', 'Yamato Holdings', 'Santander', 'Deutsche Telekom', 'HCA Healthcare', 'Continental', 'Bouygues']\n"
          ]
        }
      ],
      "source": [
        "# extrat the title of the comapny\n",
        "\n",
        "a = []\n",
        "body = soup.find('table',{'class':'default-table table marketcap-table dataTable'}).tbody\n",
        "for i in body.find_all('td',{'class':'name-td'}):\n",
        "  tr = i.find_all('td',{'class':'name-td'})\n",
        "  c = i.find('div',{'class':'company-name'}).text\n",
        "  a.append(c)\n",
        "print(a)"
      ]
    },
    {
      "cell_type": "code",
      "source": [
        "# extract the other parameter of the website that we needed\n",
        "\n",
        "c = []\n",
        "for j in body.find_all('td',{'class':'td-right'}):\n",
        "  c.append(j.text)\n",
        "print(c)\n",
        "print(len(c))"
      ],
      "metadata": {
        "colab": {
          "base_uri": "https://localhost:8080/"
        },
        "id": "69LqmgGu7AMe",
        "outputId": "78b9aaf4-ed53-4f21-911a-cfc2f4590939"
      },
      "execution_count": null,
      "outputs": [
        {
          "output_type": "stream",
          "name": "stdout",
          "text": [
            "['1', '2,100,000', '$160.00', '2', '1,541,000', '$140.57', '3', '826,608', '$3.38', '4', '732,000', '$311.71', '5', '676,915', '$127.81', '6', '614,795', '$41.74', '7', '583,816', '$49.26', '8', '570,100', '$34.10', '9', '530,000', '$266.94', '10', '500,000', '$25.51', '11', '500,000', '$175.51', '12', '500,000', '$48.56', '13', '475,000', '$329.95', '14', '468,000', '$2.22', '15', '452,258', '$0.49', '16', '450,698', '$8.55', '17', '450,679', '$36.76', '18', '440,000', '$129.42', '19', '427,587', '$0.45', '20', '422,000', '$103.87', '21', '414,000', '$33.58', '22', '402,000', '$101.01', '23', '400,000', '$46.79', '24', '400,000', '$55.12', '25', '400,000', '$510.93', '26', '398,440', '$1.09', '27', '383,000', '$358.48', '28', '382,492', '$0.83', '29', '377,000', '$206.84', '30', '376,682', '$0.83', '31', '375,235', '$166.70', '32', '374,791', '$0.86', '33', '361,706', '$112.57', '34', '359,567', '$177.46', '35', '357,000', '$59.59', '36', '351,500', '$71.10', '37', '346,666', '$19.92', '38', '344,223', '$6.79', '39', '338,651', '$1.12', '40', '334,896', '$130.27', '41', '331,899', '$106.51', '42', '330,000', '$3.10', '43', '329,000', '$86.21', '44', '325,000', '$17.96', '45', '325,000', '$29.07', '46', '322,525', '$65.98', '47', '316,000', '$151.94', '48', '315,000', '$74.83', '49', '315,000', '$183.62', '50', '313,812', '$32.96', '51', '306,691', '$102.00', '52', '306,182', '$0.53', '53', '304,000', '$561.47', '54', '300,066', '$154.77', '55', '300,000', '$5.44', '56', '300,000', '$16.86', '57', '300,000', '$225.89', '58', '297,620', '$0.61', '59', '296,700', '$8.27', '60', '289,191', '$12.56', '61', '288,300', '$141.91', '62', '287,866', '$1.95', '63', '280,683', '$0.51', '64', '275,000', '$118.07', '65', '273,875', '$38.13', '66', '272,367', '$18.41', '67', '270,310', '$17.50', '68', '269,577', '$1.43', '69', '265,303', '$113.07', '70', '260,000', '$18.71', '71', '260,000', '$3.98', '72', '250,000', '$106.91', '73', '250,000', '$4.98', '74', '248,550', '$2.83', '75', '244,658', '$0.74', '76', '240,000', '$24.91', '77', '240,000', '$44.10', '78', '236,932', '$4.53', '79', '236,334', '$31.18', '80', '235,858', '$6.78', '81', '235,216', '$93.46', '82', '233,834', '$43.74', '83', '233,391', '$11.35', '84', '229,133', '$4.04', '85', '227,369', '$7.65', '86', '221,656', '$39.78', '87', '221,285', '$114.02', '88', '221,000', '$88.10', '89', '221,000', '$324.04', '90', '220,000', '$2.58', '91', '219,325', '$14.17', '92', '219,000', '$74.34', '93', '217,000', '$30.93', '94', '215,999', '$2.01', '95', '210,197', '$18.85', '96', '210,169', '$3.88', '97', '207,789', '$20.78', '98', '207,000', '$270.89', '99', '202,929', '$73.91', '100', '200,000', '$34.88']\n",
            "300\n"
          ]
        }
      ]
    },
    {
      "cell_type": "code",
      "source": [
        "s = c[0:300:3]\n",
        "p = c[2:300:3]\n",
        "k = c[1:300:3]"
      ],
      "metadata": {
        "id": "pE5-XDynCQog"
      },
      "execution_count": null,
      "outputs": []
    },
    {
      "cell_type": "code",
      "execution_count": null,
      "metadata": {
        "id": "f4xheKcGXsI-"
      },
      "outputs": [],
      "source": [
        "d = {'Company_Name':a,'Rank':s,'Employee':p,'Price':k}"
      ]
    },
    {
      "cell_type": "code",
      "source": [
        "data = pd.DataFrame(d)\n",
        "data.to_csv('Company_employee',index=False)"
      ],
      "metadata": {
        "id": "9eNsRLTyLhx2"
      },
      "execution_count": null,
      "outputs": []
    },
    {
      "cell_type": "code",
      "source": [],
      "metadata": {
        "id": "LnklSFGtPN1R"
      },
      "execution_count": null,
      "outputs": []
    },
    {
      "cell_type": "code",
      "source": [],
      "metadata": {
        "id": "IMcD6--dMHPi"
      },
      "execution_count": null,
      "outputs": []
    },
    {
      "cell_type": "code",
      "source": [],
      "metadata": {
        "id": "1fDNAkoTOfpW"
      },
      "execution_count": null,
      "outputs": []
    }
  ],
  "metadata": {
    "colab": {
      "provenance": []
    },
    "kernelspec": {
      "display_name": "Python 3",
      "name": "python3"
    },
    "language_info": {
      "name": "python"
    }
  },
  "nbformat": 4,
  "nbformat_minor": 0
}
